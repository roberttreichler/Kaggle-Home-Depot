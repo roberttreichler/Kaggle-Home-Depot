{
 "cells": [
  {
   "cell_type": "code",
   "execution_count": null,
   "metadata": {
    "collapsed": true
   },
   "outputs": [],
   "source": [
    "#script by Rob Treichler...basic python script \n",
    "\n",
    "import warnings; warnings.filterwarnings(\"ignore\");\n",
    "\n",
    "#create working directory\n",
    "import os#Miscellaneous operating system interfaces\n",
    "os.chdir(r'C:\\\\Users\\\\rtreichl\\\\Documents\\\\competitions\\\\home_depot')  #working directory\n",
    "\n",
    "#%matplotlib inline allows graphics to show below each cell (or graphics in line)\n",
    "# for some reason, %matplotlib inline won't work if comments are made in the same cell"
   ]
  },
  {
   "cell_type": "code",
   "execution_count": null,
   "metadata": {
    "collapsed": true
   },
   "outputs": [],
   "source": [
    "%matplotlib inline"
   ]
  },
  {
   "cell_type": "code",
   "execution_count": null,
   "metadata": {
    "collapsed": true
   },
   "outputs": [],
   "source": [
    "import pandas as pd #munging and wrangling\n",
    "import numpy as np  #for arrays, etc.\n",
    "import matplotlib.pyplot as plt #graphs/plots\n",
    "\n",
    "#preprocessing\n",
    "from sklearn import preprocessing\n",
    "\n",
    "#Model Selection -> Metrics\n",
    "from sklearn.metrics import mean_squared_error\n",
    "from sklearn import cross_validation\n",
    "from sklearn.grid_search import GridSearchCV\n",
    "\n",
    "#xgboost\n",
    "import xgboost as xgb #xgboost\n",
    "from sklearn.ensemble import RandomForestRegressor\n",
    "from sklearn.ensemble import BaggingRegressor\n",
    "\n",
    "from nltk.stem.snowball import SnowballStemmer\n",
    "\n",
    "stemmer = SnowballStemmer('english')"
   ]
  },
  {
   "cell_type": "code",
   "execution_count": null,
   "metadata": {
    "collapsed": false
   },
   "outputs": [],
   "source": [
    "#use dataframes for EDA\n",
    "train = pd.read_csv('train.csv',encoding='cp437')\n",
    "test  = pd.read_csv('test.csv',encoding='cp437')\n",
    "product_descriptions  = pd.read_csv('product_descriptions.csv',encoding='cp437')\n",
    "attributes  = pd.read_csv('attributes.csv',encoding='cp437')"
   ]
  },
  {
   "cell_type": "code",
   "execution_count": null,
   "metadata": {
    "collapsed": false
   },
   "outputs": [],
   "source": [
    "#quick view of train\n",
    "train.head()"
   ]
  },
  {
   "cell_type": "code",
   "execution_count": null,
   "metadata": {
    "collapsed": false
   },
   "outputs": [],
   "source": [
    "#shape of train\n",
    "train.shape"
   ]
  },
  {
   "cell_type": "code",
   "execution_count": null,
   "metadata": {
    "collapsed": false
   },
   "outputs": [],
   "source": [
    "#quick view of test\n",
    "test.head()"
   ]
  },
  {
   "cell_type": "code",
   "execution_count": null,
   "metadata": {
    "collapsed": false
   },
   "outputs": [],
   "source": [
    "#shape of test\n",
    "test.shape"
   ]
  },
  {
   "cell_type": "code",
   "execution_count": null,
   "metadata": {
    "collapsed": false
   },
   "outputs": [],
   "source": [
    "#quick view of product descriptions\n",
    "product_descriptions.head()"
   ]
  },
  {
   "cell_type": "code",
   "execution_count": null,
   "metadata": {
    "collapsed": false
   },
   "outputs": [],
   "source": [
    "#quick view of attributes\n",
    "attributes.head()"
   ]
  },
  {
   "cell_type": "code",
   "execution_count": null,
   "metadata": {
    "collapsed": false
   },
   "outputs": [],
   "source": [
    "#size of attributes\n",
    "attributes.shape"
   ]
  },
  {
   "cell_type": "code",
   "execution_count": null,
   "metadata": {
    "collapsed": false
   },
   "outputs": [],
   "source": [
    "#delete rows with null values\n",
    "attributes=attributes.dropna()\n",
    "print(attributes.shape)"
   ]
  },
  {
   "cell_type": "code",
   "execution_count": null,
   "metadata": {
    "collapsed": false
   },
   "outputs": [],
   "source": [
    "#length of train\n",
    "num_train = len(train)"
   ]
  },
  {
   "cell_type": "code",
   "execution_count": null,
   "metadata": {
    "collapsed": true
   },
   "outputs": [],
   "source": [
    "#stem function\n",
    "def str_stemmer(s):\n",
    "    return \" \".join([stemmer.stem(word) for word in s.lower().split()])"
   ]
  },
  {
   "cell_type": "code",
   "execution_count": null,
   "metadata": {
    "collapsed": true
   },
   "outputs": [],
   "source": [
    "#count words\n",
    "def str_common_word(str1, str2):\n",
    "    return sum(int(str2.find(word)>=0) for word in str1.split())"
   ]
  },
  {
   "cell_type": "code",
   "execution_count": null,
   "metadata": {
    "collapsed": false
   },
   "outputs": [],
   "source": [
    "#combine train and test sets\n",
    "df_all = pd.concat((train, test), axis=0, ignore_index=True)"
   ]
  },
  {
   "cell_type": "code",
   "execution_count": null,
   "metadata": {
    "collapsed": true
   },
   "outputs": [],
   "source": [
    "#add the product descriptions\n",
    "df_all = pd.merge(df_all, product_descriptions, how='left', on='product_uid')"
   ]
  },
  {
   "cell_type": "code",
   "execution_count": null,
   "metadata": {
    "collapsed": false
   },
   "outputs": [],
   "source": [
    "#name_list=list(attributes.groupby('name').size().index)\n",
    "#for i in name_list:\n",
    "#    df_temp = attributes[attributes.name == i][[\"product_uid\", \"value\"]]\n",
    "#    df_all = pd.merge(df_all, df_temp, how='left', on='product_uid')\n",
    "#    df_all[i] = df_all[i].replace(np.nan,'0', regex=True)\n",
    "#    print(len(df_all.columns))\n",
    "#    del df_temp"
   ]
  },
  {
   "cell_type": "code",
   "execution_count": null,
   "metadata": {
    "collapsed": true
   },
   "outputs": [],
   "source": [
    "#add the brand name\n",
    "df_brand = attributes[attributes.name == \"MFG Brand Name\"][[\"product_uid\", \"value\"]].rename(columns={\"value\": \"brand\"})\n",
    "df_all = pd.merge(df_all, df_brand, how='left', on='product_uid')\n",
    "#where a brand name is abscent, set string value of 0\n",
    "df_all['brand'] = df_all['brand'].replace(np.nan,'0', regex=True)"
   ]
  },
  {
   "cell_type": "code",
   "execution_count": null,
   "metadata": {
    "collapsed": false
   },
   "outputs": [],
   "source": [
    "#remove brand name from attributes\n",
    "attributes=attributes[attributes.name != \"MFG Brand Name\"]\n",
    "print(attributes.shape)"
   ]
  },
  {
   "cell_type": "code",
   "execution_count": null,
   "metadata": {
    "collapsed": false
   },
   "outputs": [],
   "source": [
    "#create string of all other attributes\n",
    "#df_attributes=attributes.groupby(['product_uid'])['value'].apply(lambda x: str(x)).reset_index()\n",
    "#df_all = pd.merge(df_all, df_attributes, how='left', on='product_uid')\n",
    "#df_all['value'] = df_all['value'].replace(np.nan,'0', regex=True)"
   ]
  },
  {
   "cell_type": "code",
   "execution_count": null,
   "metadata": {
    "collapsed": false
   },
   "outputs": [],
   "source": [
    "#search term -> lower case and stem \n",
    "df_all['search_term'] = df_all['search_term'].map(lambda x:str_stemmer(x))"
   ]
  },
  {
   "cell_type": "code",
   "execution_count": null,
   "metadata": {
    "collapsed": true
   },
   "outputs": [],
   "source": [
    "#product title -> lower case and stem\n",
    "df_all['product_title'] = df_all['product_title'].map(lambda x:str_stemmer(x))"
   ]
  },
  {
   "cell_type": "code",
   "execution_count": null,
   "metadata": {
    "collapsed": true
   },
   "outputs": [],
   "source": [
    "#product description -> lower case and stem\n",
    "df_all['product_description'] = df_all['product_description'].map(lambda x:str_stemmer(x))"
   ]
  },
  {
   "cell_type": "code",
   "execution_count": null,
   "metadata": {
    "collapsed": true
   },
   "outputs": [],
   "source": [
    "#attribute values -> lower case and stem\n",
    "#df_all['value'] = df_all['value'].map(lambda x:str_stemmer(x))"
   ]
  },
  {
   "cell_type": "code",
   "execution_count": null,
   "metadata": {
    "collapsed": false
   },
   "outputs": [],
   "source": [
    "#for common word function\n",
    "df_all['product_info'] = df_all['search_term']+\"\\t\"+df_all['brand']+\"\\t\"+df_all['product_title']+\"\\t\"+\\\n",
    "                        df_all['product_description']#+\"\\t\"+df_all['value']"
   ]
  },
  {
   "cell_type": "code",
   "execution_count": null,
   "metadata": {
    "collapsed": true
   },
   "outputs": [],
   "source": [
    "#perform a word count....identify stuff like spaces, etc.\n",
    "\n",
    "#stop words?"
   ]
  },
  {
   "cell_type": "code",
   "execution_count": null,
   "metadata": {
    "collapsed": true
   },
   "outputs": [],
   "source": [
    "#number of words in search term\n",
    "df_all['len_of_query'] = df_all['search_term'].map(lambda x:len(x.split())).astype(np.int64)\n",
    "df_all['len_of_title'] = df_all['product_title'].map(lambda x:len(x.split())).astype(np.int64)\n",
    "df_all['len_of_description'] = df_all['product_description'].map(lambda x:len(x.split())).astype(np.int64)\n",
    "df_all['len_of_brand'] = df_all['brand'].map(lambda x:len(x.split())).astype(np.int64)\n"
   ]
  },
  {
   "cell_type": "code",
   "execution_count": null,
   "metadata": {
    "collapsed": false
   },
   "outputs": [],
   "source": [
    "#max number of words in brand name matching search term.\n",
    "df_all['word_in_brand'] = df_all['product_info'].map(lambda x:str_common_word(x.split('\\t')[0],x.split('\\t')[1]))"
   ]
  },
  {
   "cell_type": "code",
   "execution_count": null,
   "metadata": {
    "collapsed": false
   },
   "outputs": [],
   "source": [
    "#max number of words in title matching search term.\n",
    "df_all['word_in_title'] = df_all['product_info'].map(lambda x:str_common_word(x.split('\\t')[0],x.split('\\t')[2]))"
   ]
  },
  {
   "cell_type": "code",
   "execution_count": null,
   "metadata": {
    "collapsed": true
   },
   "outputs": [],
   "source": [
    "#max number of words in description matching search term\n",
    "df_all['word_in_description'] = df_all['product_info'].map(lambda x:str_common_word(x.split('\\t')[0],x.split('\\t')[3]))"
   ]
  },
  {
   "cell_type": "code",
   "execution_count": null,
   "metadata": {
    "collapsed": true
   },
   "outputs": [],
   "source": [
    "#max number of words in attribute value matching search term\n",
    "#df_all['word_in_value'] = df_all['product_info'].map(lambda x:str_common_word(x.split('\\t')[0],x.split('\\t')[4]))"
   ]
  },
  {
   "cell_type": "code",
   "execution_count": null,
   "metadata": {
    "collapsed": true
   },
   "outputs": [],
   "source": [
    "#additional variable\n",
    "df_all['ratio_title'] = df_all['word_in_title']/df_all['len_of_query']\n",
    "df_all['ratio_description'] = df_all['word_in_description']/df_all['len_of_query']\n",
    "df_all['ratio_brand'] = df_all['word_in_brand']/df_all['len_of_brand']\n",
    "#df_all['ratio_value'] = df_all['word_in_value']/df_all['len_of_brand']"
   ]
  },
  {
   "cell_type": "code",
   "execution_count": null,
   "metadata": {
    "collapsed": true
   },
   "outputs": [],
   "source": [
    "#def getNgrams(input, n):\n",
    "#  input = input.split(' ')\n",
    "#  output = []\n",
    "#  for i in range(len(input)-n+1):\n",
    "#    output.append(input[i:i+n])\n",
    "#  return output"
   ]
  },
  {
   "cell_type": "code",
   "execution_count": null,
   "metadata": {
    "collapsed": false
   },
   "outputs": [],
   "source": [
    "#content = str(df_all['search_term'])\n",
    "#ngrams = getNgrams(content, 1)\n",
    "#print(ngrams)"
   ]
  },
  {
   "cell_type": "code",
   "execution_count": null,
   "metadata": {
    "collapsed": true
   },
   "outputs": [],
   "source": [
    "#drop those variables no longer needed\n",
    "df_all = df_all.drop(['search_term','product_title','product_description','product_info','brand',\n",
    "                     # 'value'\n",
    "                     ],axis=1)"
   ]
  },
  {
   "cell_type": "code",
   "execution_count": null,
   "metadata": {
    "collapsed": true
   },
   "outputs": [],
   "source": [
    "#define train and test set from df_all\n",
    "df_train = df_all.iloc[:num_train]\n",
    "df_test = df_all.iloc[num_train:]\n",
    "id_test = df_test['id']"
   ]
  },
  {
   "cell_type": "code",
   "execution_count": null,
   "metadata": {
    "collapsed": true
   },
   "outputs": [],
   "source": [
    "y_train = df_train['relevance'].values\n",
    "x_train = df_train.drop(['id','relevance','product_uid'],axis=1).values\n",
    "x_test = df_test.drop(['id','relevance','product_uid'],axis=1).values"
   ]
  },
  {
   "cell_type": "code",
   "execution_count": null,
   "metadata": {
    "collapsed": false
   },
   "outputs": [],
   "source": [
    "#training and test sets for cross validation\n",
    "x_traincv, x_testcv, y_traincv, y_testcv = cross_validation.train_test_split(x_train,y_train, test_size=0.30, random_state=0)"
   ]
  },
  {
   "cell_type": "code",
   "execution_count": null,
   "metadata": {
    "collapsed": false
   },
   "outputs": [],
   "source": [
    "#As a starting point, we will looks for a potential set of optimal parameters to train and test with\n",
    "\n",
    "#function to \n",
    "def rf_params(xt,yt):\n",
    "    param_grid ={    \"max_depth\": [1,2,3,4,5,6,7,8,9,10,11,12,13,14,15,16,17,18,19,20,21,22,23,24,25,26,27,28,29,30,31,32,\n",
    "                            33,34,35,36,37,38,39,40,41,42,43,44,45,46,47,48],\n",
    "              \"min_samples_split\" : [1,2,3,4,5,6,7,8,9,10,11,12,13,14,15,16,17,18,19,20,21,22,23,24,25,26,27,28,29,30],\n",
    "             \"min_samples_leaf\": [1,2],\n",
    "            }\n",
    "\n",
    "    rf=RandomForestRegressor()\n",
    "\n",
    "    grid=GridSearchCV(estimator=rf, param_grid=param_grid,scoring=\"mean_squared_error\", n_jobs=-1, cv=5,)\n",
    "\n",
    "    grid_train = grid.fit(xt,yt)\n",
    "\n",
    "    print(grid.best_params_)\n",
    "\n",
    "rf_params(xt=x_testcv,yt=y_testcv)"
   ]
  },
  {
   "cell_type": "code",
   "execution_count": null,
   "metadata": {
    "collapsed": false
   },
   "outputs": [],
   "source": [
    "rf = RandomForestRegressor(n_estimators=1000, max_depth= 7, min_samples_split= 29, min_samples_leaf= 2,\n",
    "                                                 n_jobs = -1)\n",
    "\n",
    "#{'max_depth': 7, 'min_samples_split': 29, 'min_samples_leaf': 2}\n",
    "#{'min_samples_leaf': 1, 'min_samples_split': 22, 'max_depth': 8}\n",
    "\n",
    "#rfr = RandomForestRegressor(n_estimators = 500, n_jobs = -1, random_state = 2016, verbose = 1)\n",
    "\n",
    "\n",
    "#rf = RandomForestRegressor(n_estimators=15, max_depth=6, random_state=0)\n",
    "#clf = BaggingRegressor(rf, n_estimators=45, max_samples=0.1, random_state=25)\n",
    "\n",
    "clf = BaggingRegressor(rf, #n_estimators=45, \n",
    "                       max_samples=0.1, random_state=25)\n",
    "clf.fit(x_train, y_train)\n",
    "y_pred = clf.predict(x_test)\n",
    "pd.DataFrame({\"id\": id_test, \"relevance\": y_pred}).to_csv('submission_value4.csv',index=False)"
   ]
  },
  {
   "cell_type": "code",
   "execution_count": null,
   "metadata": {
    "collapsed": false
   },
   "outputs": [],
   "source": [
    "#identify appropriate number of boost rounds\n",
    "\n",
    "def xg_paraml(label,x_train,y_train,x_test,y_test):\n",
    "\n",
    "    for bb in range(600,800,10):\n",
    "        \n",
    "        xgb_train_data = xgb.DMatrix(x_train, np.array(y_train))\n",
    "        xgb_test_data=xgb.DMatrix(x_test)\n",
    "        params={'objective':'reg:linear','eval_metric' : 'rmse','eta': 0.01 ,\n",
    "                        'subsample':1.0, 'nthread' : -1, \n",
    "                #'max_depth':6, 'colsample_bytree':0.3\n",
    "               }\n",
    "        xgb_estimator = xgb.train(params, xgb_train_data, num_boost_round= bb)\n",
    "        pred=xgb_estimator.predict(xgb_train_data)\n",
    "        pred_test=xgb_estimator.predict(xgb_test_data)\n",
    "        rmse_tr=mean_squared_error(y_train, pred)**.5\n",
    "        rmse_te=mean_squared_error(y_test, pred_test)**.5\n",
    "        print(label+ str(rmse_tr) + '   '+\n",
    "              str(rmse_te) +\n",
    "              ' boost rounds '+str(bb))\n",
    "\n",
    "xg_paraml(label=' parameter ', x_train=x_traincv,y_train=y_traincv,x_test=x_testcv,y_test=y_testcv)"
   ]
  },
  {
   "cell_type": "code",
   "execution_count": null,
   "metadata": {
    "collapsed": false
   },
   "outputs": [],
   "source": [
    "#identify optimal parameters\n",
    "\n",
    "def xg_paraml(label,x_train,y_train,x_test,y_test):\n",
    "    cb_list=[1.0]\n",
    "    \n",
    "    for md in range(4,10,1):\n",
    "        for cb in cb_list:\n",
    "                    xgb_train_data = xgb.DMatrix(x_train, np.array(y_train ))\n",
    "                    xgb_test_data=xgb.DMatrix(x_test)\n",
    "                    params={'objective':'reg:linear','eval_metric' : 'rmse','eta': 0.01 ,\n",
    "                        'subsample':1.0, 'max_depth':md, 'colsample_bytree':cb,'nthreads':-1}\n",
    "                    xgb_estimator = xgb.train(params, xgb_train_data, num_boost_round= 650)\n",
    "                    pred=xgb_estimator.predict(xgb_train_data)\n",
    "                    pred_test=xgb_estimator.predict(xgb_test_data)\n",
    "                    rmse_tr=mean_squared_error(y_train, pred)**.5\n",
    "                    rmse_te=mean_squared_error(y_test, pred_test)**.5\n",
    "                    print(label+ str(rmse_tr) + '   '+str(rmse_te) +#' subsample '+str(ss)+\n",
    "                          ' max_depth '+\n",
    "                      str(md)+' colsample '+str(cb))\n",
    "\n",
    "\n",
    "xg_paraml(label=' parameter ', x_train=x_traincv,y_train=y_traincv,x_test=x_testcv,y_test=y_testcv)\n"
   ]
  },
  {
   "cell_type": "code",
   "execution_count": null,
   "metadata": {
    "collapsed": false
   },
   "outputs": [],
   "source": [
    "#final model with submission file\n",
    "#def xg_sub(label,x_train,y_train,x_test,parameters):\n",
    "    #xgb parameters\n",
    "    \n",
    "params = {'objective':'reg:linear','eval_metric' : 'rmse', 'eta': 0.01,\n",
    "         'max_depth': 6, 'colsample_bytree': 1.0, 'subsample': 1.0,\n",
    "          'nthread':-1}\n",
    "\n",
    "xgb_train_data = xgb.DMatrix(x_train, y_train)\n",
    "xgb_test_data  = xgb.DMatrix(x_test)\n",
    "\n",
    "xgb_estimator = xgb.train(params, xgb_train_data, num_boost_round= 650)\n",
    "\n",
    "\n",
    "train_pred=pd.DataFrame(xgb_estimator.predict(xgb_train_data))\n",
    "test_pred =xgb_estimator.predict(xgb_test_data)\n",
    "\n",
    "pd.DataFrame({\"id\": id_test, \"relevance\": test_pred}).to_csv('submission_xg_value4.csv',index=False)\n"
   ]
  }
 ],
 "metadata": {
  "kernelspec": {
   "display_name": "Python 3",
   "language": "python",
   "name": "python3"
  },
  "language_info": {
   "codemirror_mode": {
    "name": "ipython",
    "version": 3
   },
   "file_extension": ".py",
   "mimetype": "text/x-python",
   "name": "python",
   "nbconvert_exporter": "python",
   "pygments_lexer": "ipython3",
   "version": "3.5.1"
  }
 },
 "nbformat": 4,
 "nbformat_minor": 0
}
